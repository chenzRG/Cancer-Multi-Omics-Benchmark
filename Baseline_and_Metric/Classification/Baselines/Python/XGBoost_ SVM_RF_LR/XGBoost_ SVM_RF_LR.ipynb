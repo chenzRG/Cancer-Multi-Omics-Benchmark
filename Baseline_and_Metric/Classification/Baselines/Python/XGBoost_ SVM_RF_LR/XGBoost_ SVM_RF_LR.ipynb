{
 "cells": [
  {
   "cell_type": "code",
   "execution_count": 7,
   "id": "6e922922-e4c2-4293-802c-dc56b587c2ea",
   "metadata": {},
   "outputs": [],
   "source": [
    "import pandas as pd\n",
    "from sklearn.model_selection import train_test_split\n",
    "from sklearn.preprocessing import StandardScaler\n",
    "from sklearn.ensemble import RandomForestClassifier\n",
    "from sklearn.svm import SVC\n",
    "from sklearn.linear_model import LogisticRegression\n",
    "from sklearn.metrics import precision_score, normalized_mutual_info_score, adjusted_rand_score\n",
    "from sklearn.ensemble import GradientBoostingClassifier "
   ]
  },
  {
   "cell_type": "code",
   "execution_count": 8,
   "id": "989972e7-3863-497e-a131-2a1d4bd7eba5",
   "metadata": {},
   "outputs": [],
   "source": [
    "cancer = 'Pan-cancer'"
   ]
  },
  {
   "cell_type": "code",
   "execution_count": 4,
   "id": "a2faa953-c79b-4d0c-acd4-252f2771d88e",
   "metadata": {},
   "outputs": [
    {
     "name": "stdout",
     "output_type": "stream",
     "text": [
      "Method               PREC       NMI        ARI       \n",
      "XGBoost              0.848      0.629      0.618     \n",
      "SVM                  0.792      0.511      0.493     \n",
      "Random Forest        0.824      0.585      0.531     \n",
      "Logistic Regression  0.825      0.590      0.543     \n"
     ]
    }
   ],
   "source": [
    "omics_file_1 = pd.read_csv(f'{cancer}_mRNA_top.csv', index_col=0)  # mRNA data\n",
    "omics_file_2 = pd.read_csv(f'{cancer}_miRNA_top.csv', index_col=0)  # miRNA data\n",
    "omics_file_3 = pd.read_csv(f'{cancer}_CNV_top.csv', index_col=0)  # CNV data\n",
    "omics_file_4 = pd.read_csv(f'{cancer}_Methy_top.csv', index_col=0)  # Methylation data\n",
    "labels = pd.read_csv(f'{cancer}_label_num.csv', header=0)\n",
    "labels = labels.squeeze()  # Convert to 1D array\n",
    "\n",
    "omics_data_1 = omics_file_1.T  # mRNA\n",
    "omics_data_2 = omics_file_2.T  # miRNA\n",
    "omics_data_3 = omics_file_3.T  # CNV\n",
    "omics_data_4 = omics_file_4.T  # Methylation\n",
    "\n",
    "omics_data_1 = omics_data_1.add_suffix('_mRNA')\n",
    "omics_data_2 = omics_data_2.add_suffix('_miRNA')\n",
    "omics_data_3 = omics_data_3.add_suffix('_CNV')\n",
    "omics_data_4 = omics_data_4.add_suffix('_Methy')\n",
    "\n",
    "omics_data_combined = omics_data_1.join(omics_data_2, how='inner')\n",
    "omics_data_combined = omics_data_combined.join(omics_data_3, how='inner')\n",
    "omics_data_combined = omics_data_combined.join(omics_data_4, how='inner')\n",
    "omics_data_combined = omics_data_combined.fillna(omics_data_combined.mean())\n",
    "\n",
    "X_train, X_test, y_train, y_test = train_test_split(omics_data_combined, labels, test_size=0.2, random_state=42)\n",
    "\n",
    "scaler = StandardScaler()\n",
    "X_train = scaler.fit_transform(X_train)\n",
    "X_test = scaler.transform(X_test)\n",
    "\n",
    "# Initialize models\n",
    "xgb_model = GradientBoostingClassifier(n_estimators=100, random_state=42)\n",
    "svm_model = SVC(kernel='linear', random_state=42)\n",
    "rf_model = RandomForestClassifier(n_estimators=100, random_state=42)\n",
    "lr_model = LogisticRegression(max_iter=1000, random_state=42)\n",
    "\n",
    "# Function to compute Precision, NMI, and ARI\n",
    "def evaluate_model(model, X_train, X_test, y_train, y_test):\n",
    "    model.fit(X_train, y_train)\n",
    "    y_pred = model.predict(X_test)\n",
    "    \n",
    "    # Precision\n",
    "    prec = precision_score(y_test, y_pred, average='weighted')\n",
    "    \n",
    "    # NMI (Normalized Mutual Information)\n",
    "    nmi = normalized_mutual_info_score(y_test, y_pred)\n",
    "    \n",
    "    # ARI (Adjusted Rand Index)\n",
    "    ari = adjusted_rand_score(y_test, y_pred)\n",
    "    \n",
    "    return prec, nmi, ari\n",
    "\n",
    "# Evaluate each model and report results\n",
    "models = {\n",
    "    \"XGBoost\": xgb_model,\n",
    "    \"SVM\": svm_model,\n",
    "    \"Random Forest\": rf_model,\n",
    "    \"Logistic Regression\": lr_model\n",
    "}\n",
    "\n",
    "results = {}\n",
    "\n",
    "for model_name, model in models.items():\n",
    "    prec, nmi, ari = evaluate_model(model, X_train, X_test, y_train, y_test)\n",
    "    results[model_name] = (prec, nmi, ari)\n",
    "\n",
    "# Print results\n",
    "print(f\"{'Method':<20} {'PREC':<10} {'NMI':<10} {'ARI':<10}\")\n",
    "for model_name, (prec, nmi, ari) in results.items():\n",
    "    print(f\"{model_name:<20} {prec:<10.3f} {nmi:<10.3f} {ari:<10.3f}\")"
   ]
  }
 ],
 "metadata": {
  "kernelspec": {
   "display_name": "Python 3 (ipykernel)",
   "language": "python",
   "name": "python3"
  },
  "language_info": {
   "codemirror_mode": {
    "name": "ipython",
    "version": 3
   },
   "file_extension": ".py",
   "mimetype": "text/x-python",
   "name": "python",
   "nbconvert_exporter": "python",
   "pygments_lexer": "ipython3",
   "version": "3.12.3"
  }
 },
 "nbformat": 4,
 "nbformat_minor": 5
}
